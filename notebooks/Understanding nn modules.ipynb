{
 "cells": [
  {
   "cell_type": "code",
   "execution_count": 1,
   "metadata": {
    "collapsed": true
   },
   "outputs": [],
   "source": [
    "require 'nn';"
   ]
  },
  {
   "cell_type": "code",
   "execution_count": 3,
   "metadata": {
    "collapsed": false
   },
   "outputs": [],
   "source": [
    "criterion = nn.CrossEntropyCriterion()"
   ]
  },
  {
   "cell_type": "code",
   "execution_count": 4,
   "metadata": {
    "collapsed": false
   },
   "outputs": [
    {
     "data": {
      "text/plain": [
       "nn.CrossEntropyCriterion\n",
       "{\n",
       "  gradInput : DoubleTensor - empty\n",
       "  nll : \n",
       "    nn.ClassNLLCriterion\n",
       "    {\n",
       "      sizeAverage : true\n",
       "      output : 0\n",
       "      gradInput : DoubleTensor - empty\n",
       "      output_tensor : DoubleTensor - size: 1\n",
       "      target : LongTensor - size: 1\n",
       "      total_weight_tensor : DoubleTensor - size: 1\n",
       "    }\n",
       "  lsm : \n",
       "    nn.LogSoftMax\n",
       "    {\n",
       "      gradInput : DoubleTensor - empty\n",
       "      _type : torch.DoubleTensor\n",
       "      output : DoubleTensor - empty\n",
       "    }\n",
       "  output : 0\n",
       "}\n"
      ]
     },
     "execution_count": 4,
     "metadata": {},
     "output_type": "execute_result"
    }
   ],
   "source": [
    "criterion"
   ]
  },
  {
   "cell_type": "code",
   "execution_count": 40,
   "metadata": {
    "collapsed": false
   },
   "outputs": [],
   "source": [
    "N = 10\n",
    "target = torch.Tensor(N):uniform(1,5):round()\n",
    "output = torch.Tensor(N):uniform(1,5):round()"
   ]
  },
  {
   "cell_type": "code",
   "execution_count": 41,
   "metadata": {
    "collapsed": false
   },
   "outputs": [
    {
     "data": {
      "text/plain": [
       "3.6633767073024\t\n"
      ]
     },
     "execution_count": 41,
     "metadata": {},
     "output_type": "execute_result"
    }
   ],
   "source": [
    "criterion:forward(output, target)"
   ]
  },
  {
   "cell_type": "code",
   "execution_count": 42,
   "metadata": {
    "collapsed": false
   },
   "outputs": [
    {
     "data": {
      "text/plain": [
       "nn.CrossEntropyCriterion\n",
       "{\n",
       "  gradInput : DoubleTensor - empty\n",
       "  nll : \n",
       "    nn.ClassNLLCriterion\n",
       "    {\n",
       "      sizeAverage : true\n",
       "      output : 3.6633767073024\n",
       "      gradInput : DoubleTensor - empty\n",
       "      output_tensor : DoubleTensor - size: 1\n",
       "      target : LongTensor - size: 10\n",
       "      total_weight_tensor : DoubleTensor - size: 1\n",
       "    }\n",
       "  lsm : \n",
       "    nn.LogSoftMax\n",
       "    {\n",
       "      gradInput : DoubleTensor - empty\n",
       "      _type : torch.DoubleTensor\n",
       "      output : DoubleTensor - size: 10\n",
       "    }\n",
       "  output : 3.6633767073024\n",
       "}\n"
      ]
     },
     "execution_count": 42,
     "metadata": {},
     "output_type": "execute_result"
    }
   ],
   "source": [
    "criterion"
   ]
  },
  {
   "cell_type": "code",
   "execution_count": 43,
   "metadata": {
    "collapsed": false
   },
   "outputs": [
    {
     "data": {
      "text/plain": [
       " 0.1895\n",
       "-0.9744\n",
       " 0.0697\n",
       " 0.1895\n",
       " 0.1895\n",
       " 0.0256\n",
       " 0.0256\n",
       " 0.0256\n",
       " 0.1895\n",
       " 0.0697\n",
       "[torch.DoubleTensor of size 10]\n",
       "\n"
      ]
     },
     "execution_count": 43,
     "metadata": {},
     "output_type": "execute_result"
    }
   ],
   "source": [
    "criterion:backward(output, target)"
   ]
  },
  {
   "cell_type": "code",
   "execution_count": 44,
   "metadata": {
    "collapsed": false
   },
   "outputs": [
    {
     "data": {
      "text/plain": [
       "nn.CrossEntropyCriterion\n",
       "{\n",
       "  gradInput : DoubleTensor - size: 10\n",
       "  nll : \n",
       "    nn.ClassNLLCriterion\n",
       "    {\n",
       "      sizeAverage : true\n",
       "      output : 3.6633767073024\n",
       "      gradInput : DoubleTensor - size: 10\n",
       "      output_tensor : DoubleTensor - size: 1\n",
       "      target : LongTensor - size: 10\n",
       "      total_weight_tensor : DoubleTensor - size: 1\n",
       "    }\n",
       "  lsm : \n",
       "    nn.LogSoftMax\n",
       "    {\n",
       "      gradInput : DoubleTensor - size: 10\n",
       "      _type : torch.DoubleTensor\n",
       "      output : DoubleTensor - size: 10\n",
       "    }\n",
       "  output : 3.6633767073024\n",
       "}\n"
      ]
     },
     "execution_count": 44,
     "metadata": {},
     "output_type": "execute_result"
    }
   ],
   "source": [
    "criterion"
   ]
  },
  {
   "cell_type": "code",
   "execution_count": 46,
   "metadata": {
    "collapsed": false
   },
   "outputs": [
    {
     "data": {
      "text/plain": [
       "-1.5265566588596e-16\t\n"
      ]
     },
     "execution_count": 46,
     "metadata": {},
     "output_type": "execute_result"
    }
   ],
   "source": [
    "criterion.gradInput:sum()"
   ]
  },
  {
   "cell_type": "code",
   "execution_count": 68,
   "metadata": {
    "collapsed": true
   },
   "outputs": [],
   "source": [
    "criterion = nn.MSECriterion()"
   ]
  },
  {
   "cell_type": "code",
   "execution_count": 69,
   "metadata": {
    "collapsed": false
   },
   "outputs": [
    {
     "data": {
      "text/plain": [
       "1.9\t\n"
      ]
     },
     "execution_count": 69,
     "metadata": {},
     "output_type": "execute_result"
    }
   ],
   "source": [
    "criterion:forward(output, target)"
   ]
  },
  {
   "cell_type": "code",
   "execution_count": 70,
   "metadata": {
    "collapsed": false
   },
   "outputs": [
    {
     "data": {
      "text/plain": [
       "nn.MSECriterion\n",
       "{\n",
       "  gradInput : DoubleTensor - empty\n",
       "  output_tensor : DoubleTensor - size: 1\n",
       "  sizeAverage : true\n",
       "  output : 1.9\n",
       "}\n"
      ]
     },
     "execution_count": 70,
     "metadata": {},
     "output_type": "execute_result"
    }
   ],
   "source": [
    "criterion"
   ]
  },
  {
   "cell_type": "code",
   "execution_count": 71,
   "metadata": {
    "collapsed": false
   },
   "outputs": [
    {
     "data": {
      "text/plain": [
       " 0.4000\n",
       "-0.4000\n",
       "-0.2000\n",
       " 0.4000\n",
       " 0.2000\n",
       "-0.2000\n",
       "-0.2000\n",
       " 0.2000\n",
       "-0.2000\n",
       "-0.2000\n",
       "[torch.DoubleTensor of size 10]\n",
       "\n"
      ]
     },
     "execution_count": 71,
     "metadata": {},
     "output_type": "execute_result"
    }
   ],
   "source": [
    "criterion:backward(output, target)"
   ]
  },
  {
   "cell_type": "code",
   "execution_count": 57,
   "metadata": {
    "collapsed": false
   },
   "outputs": [
    {
     "data": {
      "text/plain": [
       "nn.MSECriterion\n",
       "{\n",
       "  gradInput : DoubleTensor - size: 10\n",
       "  output_tensor : DoubleTensor - size: 1\n",
       "  sizeAverage : true\n",
       "  output : 1.9\n",
       "}\n"
      ]
     },
     "execution_count": 57,
     "metadata": {},
     "output_type": "execute_result"
    }
   ],
   "source": [
    "criterion"
   ]
  },
  {
   "cell_type": "code",
   "execution_count": 62,
   "metadata": {
    "collapsed": false
   },
   "outputs": [],
   "source": [
    "diff = torch.cat(output:reshape(10,1), target:reshape(10, 1), 2)"
   ]
  },
  {
   "cell_type": "code",
   "execution_count": 63,
   "metadata": {
    "collapsed": false
   },
   "outputs": [
    {
     "data": {
      "text/plain": [
       " 4  2\n",
       " 2  4\n",
       " 3  4\n",
       " 4  2\n",
       " 4  3\n",
       " 2  3\n",
       " 2  3\n",
       " 2  1\n",
       " 4  5\n",
       " 3  4\n",
       "[torch.DoubleTensor of size 10x2]\n",
       "\n"
      ]
     },
     "execution_count": 63,
     "metadata": {},
     "output_type": "execute_result"
    }
   ],
   "source": [
    "diff"
   ]
  },
  {
   "cell_type": "code",
   "execution_count": 67,
   "metadata": {
    "collapsed": false
   },
   "outputs": [
    {
     "data": {
      "text/plain": [
       " 0\n",
       " 0\n",
       " 0\n",
       " 0\n",
       " 0\n",
       " 0\n",
       " 0\n",
       " 0\n",
       " 0\n",
       " 0\n",
       "[torch.DoubleTensor of size 10x1]\n",
       "\n"
      ]
     },
     "execution_count": 67,
     "metadata": {},
     "output_type": "execute_result"
    }
   ],
   "source": [
    "0.2* (diff[{{}, {1}}] - diff[{{}, {2}}]) - criterion.gradInput"
   ]
  },
  {
   "cell_type": "code",
   "execution_count": 65,
   "metadata": {
    "collapsed": false
   },
   "outputs": [
    {
     "data": {
      "text/plain": [
       " 0.4000\n",
       "-0.4000\n",
       "-0.2000\n",
       " 0.4000\n",
       " 0.2000\n",
       "-0.2000\n",
       "-0.2000\n",
       " 0.2000\n",
       "-0.2000\n",
       "-0.2000\n",
       "[torch.DoubleTensor of size 10]\n",
       "\n"
      ]
     },
     "execution_count": 65,
     "metadata": {},
     "output_type": "execute_result"
    }
   ],
   "source": [
    "criterion.gradInput"
   ]
  },
  {
   "cell_type": "code",
   "execution_count": null,
   "metadata": {
    "collapsed": true
   },
   "outputs": [],
   "source": []
  }
 ],
 "metadata": {
  "kernelspec": {
   "display_name": "iTorch",
   "language": "lua",
   "name": "itorch"
  },
  "language_info": {
   "name": "lua",
   "version": "5.1"
  }
 },
 "nbformat": 4,
 "nbformat_minor": 0
}
