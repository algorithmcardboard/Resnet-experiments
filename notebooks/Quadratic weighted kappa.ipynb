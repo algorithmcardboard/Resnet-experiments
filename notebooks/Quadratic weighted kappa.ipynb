{
 "cells": [
  {
   "cell_type": "code",
   "execution_count": 4,
   "metadata": {
    "collapsed": true
   },
   "outputs": [],
   "source": [
    "require 'nn';\n",
    "require 'optim'"
   ]
  },
  {
   "cell_type": "code",
   "execution_count": 3,
   "metadata": {
    "collapsed": true
   },
   "outputs": [],
   "source": [
    "classes = {1, 2, 3, 4, 5}\n",
    "N = 10\n",
    "target = torch.Tensor(N):uniform(1,5):round()\n",
    "output = torch.Tensor(N):uniform(1,5):round()"
   ]
  },
  {
   "cell_type": "code",
   "execution_count": 5,
   "metadata": {
    "collapsed": true
   },
   "outputs": [],
   "source": [
    "confusion = optim.ConfusionMatrix(classes)"
   ]
  },
  {
   "cell_type": "code",
   "execution_count": 13,
   "metadata": {
    "collapsed": false
   },
   "outputs": [],
   "source": [
    "for i = 1, 10 do\n",
    "    confusion:add(output[i], target[i])\n",
    "end"
   ]
  },
  {
   "cell_type": "code",
   "execution_count": 14,
   "metadata": {
    "collapsed": false
   },
   "outputs": [
    {
     "data": {
      "text/plain": [
       "ConfusionMatrix:\n",
       "[[       0       1       0       2       0]   0.000% \t[class: 1]\n",
       " [       0       1       0       2       0]   33.333% \t[class: 2]\n",
       " [       1       0       0       1       0]   0.000% \t[class: 3]\n",
       " [       1       0       0       2       0]   66.667% \t[class: 4]\n",
       " [       0       0       0       1       0]]  0.000% \t[class: 5]\n",
       " + average row correct: 20.000000596046% \n",
       " + average rowUcol correct (VOC measure): 9.4444444775581% \n",
       " + global correct: 25%\n",
       "{\n",
       "  _mat_flat : LongTensor - size: 25\n",
       "  valids : FloatTensor - size: 5\n",
       "  mat : LongTensor - size: 5x5\n",
       "  averageUnionValid : 0.094444444775581\n",
       "  _targ_idx : LongTensor - size: 1\n",
       "  averageValid : 0.20000000596046\n",
       "  classes : \n",
       "    {\n",
       "      1 : 1\n",
       "      2 : 2\n",
       "      3 : 3\n",
       "      4 : 4\n",
       "      5 : 5\n",
       "    }\n",
       "  _prediction : FloatTensor - size: 10\n",
       "  _pred_idx : LongTensor - size: 1\n",
       "  nclasses : 5\n",
       "  _max : FloatTensor - size: 1\n",
       "  _target : FloatTensor - size: 10\n",
       "  unionvalids : FloatTensor - size: 5\n"
      ]
     },
     "execution_count": 14,
     "metadata": {},
     "output_type": "execute_result"
    },
    {
     "data": {
      "text/plain": [
       "  totalValid : 0.25\n",
       "}\n"
      ]
     },
     "execution_count": 14,
     "metadata": {},
     "output_type": "execute_result"
    }
   ],
   "source": [
    "confusion"
   ]
  },
  {
   "cell_type": "code",
   "execution_count": 19,
   "metadata": {
    "collapsed": true
   },
   "outputs": [],
   "source": [
    "ii=torch.exp(torch.abs(torch.randn(10, 2)))"
   ]
  },
  {
   "cell_type": "code",
   "execution_count": 20,
   "metadata": {
    "collapsed": false
   },
   "outputs": [
    {
     "data": {
      "text/plain": [
       "  3.0396   5.3191\n",
       "  1.3552   4.1154\n",
       "  1.2418   2.1556\n",
       " 11.5497   5.2614\n",
       "  1.2343   2.2378\n",
       "  1.1226   1.1156\n",
       "  1.4990   1.0661\n",
       "  1.2156   2.1764\n",
       "  1.5781   2.2484\n",
       "  6.6188   1.0337\n",
       "[torch.DoubleTensor of size 10x2]\n",
       "\n"
      ]
     },
     "execution_count": 20,
     "metadata": {},
     "output_type": "execute_result"
    }
   ],
   "source": [
    "ii"
   ]
  },
  {
   "cell_type": "code",
   "execution_count": 25,
   "metadata": {
    "collapsed": true
   },
   "outputs": [],
   "source": [
    "m = nn.Max(2)"
   ]
  },
  {
   "cell_type": "code",
   "execution_count": 28,
   "metadata": {
    "collapsed": false
   },
   "outputs": [],
   "source": [
    "a, b = m:forward(ii)"
   ]
  },
  {
   "cell_type": "code",
   "execution_count": 29,
   "metadata": {
    "collapsed": false
   },
   "outputs": [
    {
     "data": {
      "text/plain": [
       "  5.3191\n",
       "  4.1154\n",
       "  2.1556\n",
       " 11.5497\n",
       "  2.2378\n",
       "  1.1226\n",
       "  1.4990\n",
       "  2.1764\n",
       "  2.2484\n",
       "  6.6188\n",
       "[torch.DoubleTensor of size 10]\n",
       "\n"
      ]
     },
     "execution_count": 29,
     "metadata": {},
     "output_type": "execute_result"
    }
   ],
   "source": [
    "a"
   ]
  },
  {
   "cell_type": "code",
   "execution_count": null,
   "metadata": {
    "collapsed": true
   },
   "outputs": [],
   "source": []
  }
 ],
 "metadata": {
  "kernelspec": {
   "display_name": "iTorch",
   "language": "lua",
   "name": "itorch"
  },
  "language_info": {
   "name": "lua",
   "version": "5.1"
  }
 },
 "nbformat": 4,
 "nbformat_minor": 0
}
