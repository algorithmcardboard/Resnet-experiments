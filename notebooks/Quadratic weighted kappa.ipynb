{
 "cells": [
  {
   "cell_type": "code",
   "execution_count": 1,
   "metadata": {
    "collapsed": true
   },
   "outputs": [],
   "source": [
    "require 'nn';\n",
    "require 'optim'"
   ]
  },
  {
   "cell_type": "code",
   "execution_count": 77,
   "metadata": {
    "collapsed": false
   },
   "outputs": [],
   "source": [
    "function computeKappa (mat)\n",
    "    local N = mat:size(1)\n",
    "    local tmp = torch.range(1, N):view(1, N)\n",
    "    local tmp1 = torch.range(1, N):view(N, 1)\n",
    "    local W= tmp:expandAs(mat)-tmp1:expandAs(mat)\n",
    "    W:cmul(W)\n",
    "    W:div((N-1)*(N-1))\n",
    "    local total = mat:sum()\n",
    "    local row_sum = mat:sum(1)/total\n",
    "    local col_sum = mat:sum(2)\n",
    "    local E = torch.cmul(row_sum:expandAs(mat), col_sum:expandAs(mat))\n",
    "    local kappa = 1 - torch.cmul(W, mat):sum()/torch.cmul(W, E):sum()\n",
    "    return kappa\n",
    "end"
   ]
  },
  {
   "cell_type": "code",
   "execution_count": 70,
   "metadata": {
    "collapsed": false
   },
   "outputs": [],
   "source": [
    "mat = mat:double()"
   ]
  },
  {
   "cell_type": "code",
   "execution_count": 72,
   "metadata": {
    "collapsed": false
   },
   "outputs": [
    {
     "data": {
      "text/plain": [
       "total\t100\t\n",
       "row_sum\t 0.6000  0.3000  0.1000\n",
       "[torch.DoubleTensor of size 1x3]\n",
       "\n",
       "col_sum\t 50\n",
       " 30\n",
       " 20\n",
       "[torch.DoubleTensor of size 3x1]\n",
       "\n"
      ]
     },
     "execution_count": 72,
     "metadata": {},
     "output_type": "execute_result"
    }
   ],
   "source": [
    "total = mat:sum()\n",
    "print(\"total\", total)\n",
    "row_sum = mat:sum(1)/total\n",
    "print(\"row_sum\", row_sum)\n",
    "col_sum = mat:sum(2)\n",
    "print(\"col_sum\", col_sum)"
   ]
  },
  {
   "cell_type": "code",
   "execution_count": 73,
   "metadata": {
    "collapsed": false
   },
   "outputs": [
    {
     "data": {
      "text/plain": [
       " 30  15   5\n",
       " 18   9   3\n",
       " 12   6   2\n",
       "[torch.DoubleTensor of size 3x3]\n",
       "\n"
      ]
     },
     "execution_count": 73,
     "metadata": {},
     "output_type": "execute_result"
    }
   ],
   "source": [
    "torch.cmul(row_sum:expandAs(mat), col_sum:expandAs(mat))"
   ]
  },
  {
   "cell_type": "code",
   "execution_count": 69,
   "metadata": {
    "collapsed": false
   },
   "outputs": [
    {
     "data": {
      "text/plain": [
       " 0.6000  0.3000  0.1000\n",
       "[torch.DoubleTensor of size 1x3]\n",
       "\n"
      ]
     },
     "execution_count": 69,
     "metadata": {},
     "output_type": "execute_result"
    }
   ],
   "source": [
    "row_sum:double()/total"
   ]
  },
  {
   "cell_type": "code",
   "execution_count": 24,
   "metadata": {
    "collapsed": true
   },
   "outputs": [],
   "source": [
    "confusion = optim.ConfusionMatrix({1,2,3})"
   ]
  },
  {
   "cell_type": "code",
   "execution_count": 25,
   "metadata": {
    "collapsed": false
   },
   "outputs": [
    {
     "data": {
      "text/plain": [
       " 0  0  0\n",
       " 0  0  0\n",
       " 0  0  0\n",
       "[torch.LongTensor of size 3x3]\n",
       "\n"
      ]
     },
     "execution_count": 25,
     "metadata": {},
     "output_type": "execute_result"
    }
   ],
   "source": [
    "confusion.mat"
   ]
  },
  {
   "cell_type": "code",
   "execution_count": 30,
   "metadata": {
    "collapsed": false
   },
   "outputs": [],
   "source": [
    "confusion.mat[1][1] = 44\n",
    "confusion.mat[1][2] = 5\n",
    "confusion.mat[1][3] = 1\n",
    "\n",
    "confusion.mat[2][1] = 7\n",
    "confusion.mat[2][2] = 20\n",
    "confusion.mat[2][3] = 3\n",
    "\n",
    "confusion.mat[3][1] = 9\n",
    "confusion.mat[3][2] = 5\n",
    "confusion.mat[3][3] = 6"
   ]
  },
  {
   "cell_type": "code",
   "execution_count": 31,
   "metadata": {
    "collapsed": false
   },
   "outputs": [
    {
     "data": {
      "text/plain": [
       "ConfusionMatrix:\n",
       "[[      44       5       1]   88.000% \t[class: 1]\n",
       " [       7      20       3]   66.667% \t[class: 2]\n",
       " [       9       5       6]]  30.000% \t[class: 3]\n",
       " + average row correct: 61.555556456248% \n",
       " + average rowUcol correct (VOC measure): 47.222222884496% \n",
       " + global correct: 70%\n",
       "{\n",
       "  _mat_flat : LongTensor - size: 9\n",
       "  valids : FloatTensor - size: 3\n",
       "  mat : LongTensor - size: 3x3\n",
       "  averageUnionValid : 0.47222222884496\n",
       "  _targ_idx : LongTensor - empty\n",
       "  averageValid : 0.61555556456248\n",
       "  classes : \n",
       "    {\n",
       "      1 : 1\n",
       "      2 : 2\n",
       "      3 : 3\n",
       "    }\n",
       "  _prediction : FloatTensor - empty\n",
       "  _pred_idx : LongTensor - empty\n",
       "  nclasses : 3\n",
       "  _max : FloatTensor - empty\n",
       "  _target : FloatTensor - empty\n",
       "  unionvalids : FloatTensor - size: 3\n",
       "  totalValid : 0.7\n",
       "}\n"
      ]
     },
     "execution_count": 31,
     "metadata": {},
     "output_type": "execute_result"
    }
   ],
   "source": [
    "confusion"
   ]
  },
  {
   "cell_type": "code",
   "execution_count": 74,
   "metadata": {
    "collapsed": false
   },
   "outputs": [],
   "source": [
    "mat = confusion.mat:double()"
   ]
  },
  {
   "cell_type": "code",
   "execution_count": 37,
   "metadata": {
    "collapsed": true
   },
   "outputs": [],
   "source": [
    "N = mat:size(1)\n",
    "tmp = torch.range(1, N):view(1, N)\n",
    "tmp1 = torch.range(1, N):view(N, 1)"
   ]
  },
  {
   "cell_type": "code",
   "execution_count": 47,
   "metadata": {
    "collapsed": false
   },
   "outputs": [],
   "source": [
    "weightMatrix = 1- torch.pow(tmp:expandAs(mat)-tmp1:expandAs(mat), 2)/((N-1)^2)"
   ]
  },
  {
   "cell_type": "code",
   "execution_count": 48,
   "metadata": {
    "collapsed": false
   },
   "outputs": [
    {
     "data": {
      "text/plain": [
       " 1.0000  0.7500  0.0000\n",
       " 0.7500  1.0000  0.7500\n",
       " 0.0000  0.7500  1.0000\n",
       "[torch.DoubleTensor of size 3x3]\n",
       "\n"
      ]
     },
     "execution_count": 48,
     "metadata": {},
     "output_type": "execute_result"
    }
   ],
   "source": [
    "weightMatrix"
   ]
  },
  {
   "cell_type": "code",
   "execution_count": 78,
   "metadata": {
    "collapsed": false
   },
   "outputs": [
    {
     "data": {
      "text/plain": [
       "0.45454545454545\t\n"
      ]
     },
     "execution_count": 78,
     "metadata": {},
     "output_type": "execute_result"
    }
   ],
   "source": [
    "computeKappa(mat)"
   ]
  },
  {
   "cell_type": "code",
   "execution_count": null,
   "metadata": {
    "collapsed": true
   },
   "outputs": [],
   "source": []
  }
 ],
 "metadata": {
  "kernelspec": {
   "display_name": "iTorch",
   "language": "lua",
   "name": "itorch"
  },
  "language_info": {
   "name": "lua",
   "version": "5.1"
  }
 },
 "nbformat": 4,
 "nbformat_minor": 0
}
